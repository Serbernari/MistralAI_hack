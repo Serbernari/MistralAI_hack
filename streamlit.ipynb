{
 "cells": [
  {
   "cell_type": "code",
   "execution_count": 3,
   "metadata": {},
   "outputs": [],
   "source": [
    "from mistralai.client import MistralClient\n",
    "from mistralai.models.chat_completion import ChatMessage\n",
    "\n",
    "api_key = \"dnDSPYh1mNwZyGRSQgjCPKQc144MfMng\"\n",
    "model = \"mistral-large-latest\"\n",
    "\n",
    "client = MistralClient(api_key=api_key)"
   ]
  },
  {
   "cell_type": "code",
   "execution_count": null,
   "metadata": {},
   "outputs": [],
   "source": [
    "chat_response = client.chat(\n",
    "    model=model,\n",
    "    messages=[ChatMessage(role=\"user\", content=\"What is the best French cheese?\")]\n",
    ")\n",
    "\n",
    "print(chat_response.choices[0].message.content)"
   ]
  },
  {
   "cell_type": "code",
   "execution_count": 64,
   "metadata": {},
   "outputs": [],
   "source": [
    "def get_mistral_compare_items(item_A, item_B):\n",
    "    \"\"\"\n",
    "    Asks Mistral to compare two items from the list and say if it's the same thing \n",
    "    \"\"\"\n",
    "    #step 1\n",
    "    chat_response = client.chat(\n",
    "    model=model,\n",
    "    messages=[ChatMessage(role=\"system\", content='You will be asked questions about items to determine if they are the same name for a product inside grocery store. Specifically, you will need to assess if item_A and item_B are the same in terms of being found in the same section or location within the store. For example, \"картошка\" and \"картофелина\" should be considered the same since they can be bought in the same place, and you should answer \"yes\". Please answer with \"yes\" or \"no\"'),\n",
    "              ChatMessage(role=\"user\", content=f'If \"{item_A}\" and \"{item_B}\" are the same?')]\n",
    "    )\n",
    "    res1 = chat_response.choices[0].message.content\n",
    "    \n",
    "    # step 2\n",
    "    chat_response2 = client.chat(\n",
    "    model=model,\n",
    "    messages=[ChatMessage(role=\"system\", content='You will be given an answer to a certain question and you are need to summarize the answer as \"yes\" or \"no\". Answer only with \"yes\" or \"no\".'),\n",
    "              ChatMessage(role=\"user\", content=f'Does this text means \"yes\" or \"no\"? text:{res1}')]\n",
    "    )\n",
    "    res2 = chat_response2.choices[0].message.content\n",
    " \n",
    "    if \"yes\" in res2.lower(): #need to properly regex this\n",
    "        return True\n",
    "    elif \"no\" in res2.lower():\n",
    "        return False\n",
    "    else:\n",
    "        raise Exception(\"Mistral was unable to answer 'yes' or 'no'\") \n"
   ]
  },
  {
   "cell_type": "code",
   "execution_count": 110,
   "metadata": {},
   "outputs": [],
   "source": [
    "def get_mistral_convert_units(item):\n",
    "    \"\"\"\n",
    "    Asks Mistral to compare two items from the list and say if it's the same thing \n",
    "    \"\"\"\n",
    "    #step 1\n",
    "    chat_response = client.chat(\n",
    "    model=model, #\n",
    "    messages=[ChatMessage(role=\"user\", content=f'Please convert this unit into the International System of Units: \"1 bottle of vodka\" I need it to go to shop in France and I want all items to be represented in the same measurements. I want pack of milk represented as 1 liter, 1 potato as 0.15 kg and so on. Please provide short answer')])\n",
    "    res1 = chat_response.choices[0].message.content\n",
    "    \n",
    "        # step 2\n",
    "    chat_response2 = client.chat(\n",
    "    model=model,\n",
    "    messages=[ChatMessage(role=\"system\", content='Extract number and SI unit from the given text. Format your text like \"10 kilograms\" or \"1 litre\"'),\n",
    "              ChatMessage(role=\"user\", content=f'text:{res1}')]\n",
    "    )\n",
    "    res2 = chat_response2.choices[0].message.content\n",
    "    \n",
    "            # step 3\n",
    "    chat_response3 = client.chat(\n",
    "    model=model,\n",
    "    messages=[ChatMessage(role=\"system\", content='Extract number and SI unit from the given text. Format your text like \"10 kilograms\" or \"1 litre\". Answer only with number and unit, nothing else.'),\n",
    "              ChatMessage(role=\"user\", content=f'text:{res2}')]\n",
    "    )\n",
    "    res3 = chat_response3.choices[0].message.content\n",
    "    \n",
    "    return res3\n",
    "\n",
    "\n",
    "    \n"
   ]
  },
  {
   "cell_type": "code",
   "execution_count": 111,
   "metadata": {},
   "outputs": [
    {
     "data": {
      "text/plain": [
       "'0.75 liters'"
      ]
     },
     "execution_count": 111,
     "metadata": {},
     "output_type": "execute_result"
    }
   ],
   "source": [
    "get_mistral_convert_units(\"s\")"
   ]
  },
  {
   "cell_type": "code",
   "execution_count": 17,
   "metadata": {},
   "outputs": [
    {
     "data": {
      "text/plain": [
       "'No. \"Бульба\" is a Ukrainian word that can refer to various root vegetables, not just potatoes. In English, it\\'s often translated as \"tuber\" or \"root crop\". While it can include potatoes, it may also refer to beets, carrots, or other root vegetables. So, in a grocery store, \"бульба\" and \"potatoes\" would not necessarily refer to the same thing.'"
      ]
     },
     "execution_count": 17,
     "metadata": {},
     "output_type": "execute_result"
    }
   ],
   "source": [
    "get_mistral_answer('From the point of view of finding these items in a grocery store, are \"бульба\" and \"potatoes\" the same? Please answer with \"yes\" or \"no\" only, with no further explanations.')"
   ]
  },
  {
   "cell_type": "code",
   "execution_count": 21,
   "metadata": {},
   "outputs": [
    {
     "data": {
      "text/plain": [
       "'No.'"
      ]
     },
     "execution_count": 21,
     "metadata": {},
     "output_type": "execute_result"
    }
   ],
   "source": [
    "get_mistral_answer(\"\"\"Does this text means \"yes\" or \"no\"? Please answer with \"yes\" or \"no\" only. \n",
    "                   The text: No. \"Бульба\" is a Ukrainian word that can refer to various root vegetables, not just potatoes. In English, it\\'s often translated as \"tuber\" or \"root crop\". While it can include potatoes, it may also refer to beets, carrots, or other root vegetables. So, in a grocery store, \"бульба\" and \"potatoes\" would not necessarily refer to the same thing\"\"\")"
   ]
  },
  {
   "cell_type": "code",
   "execution_count": 112,
   "metadata": {},
   "outputs": [],
   "source": [
    "import pandas as pd"
   ]
  },
  {
   "cell_type": "code",
   "execution_count": 173,
   "metadata": {},
   "outputs": [],
   "source": [
    "data_df = pd.DataFrame(\n",
    "    {\n",
    "        \"To buy\": [\"potatoes\", \"eggs\", \"eggs\", \"яйца\"],\n",
    "        \"Amount\": [3, 12, 2, 1],\n",
    "        \"Unit\": [\"kg\", \"pieces\", \"counts\", \"packs\"],\n",
    "        \"Done\": [False, False, False, False]\n",
    "    }\n",
    ")"
   ]
  },
  {
   "cell_type": "code",
   "execution_count": 174,
   "metadata": {},
   "outputs": [
    {
     "data": {
      "text/html": [
       "<div>\n",
       "<style scoped>\n",
       "    .dataframe tbody tr th:only-of-type {\n",
       "        vertical-align: middle;\n",
       "    }\n",
       "\n",
       "    .dataframe tbody tr th {\n",
       "        vertical-align: top;\n",
       "    }\n",
       "\n",
       "    .dataframe thead th {\n",
       "        text-align: right;\n",
       "    }\n",
       "</style>\n",
       "<table border=\"1\" class=\"dataframe\">\n",
       "  <thead>\n",
       "    <tr style=\"text-align: right;\">\n",
       "      <th></th>\n",
       "      <th>To buy</th>\n",
       "      <th>Amount</th>\n",
       "      <th>Unit</th>\n",
       "      <th>Done</th>\n",
       "    </tr>\n",
       "  </thead>\n",
       "  <tbody>\n",
       "    <tr>\n",
       "      <th>0</th>\n",
       "      <td>potatoes</td>\n",
       "      <td>3</td>\n",
       "      <td>kg</td>\n",
       "      <td>False</td>\n",
       "    </tr>\n",
       "    <tr>\n",
       "      <th>1</th>\n",
       "      <td>eggs</td>\n",
       "      <td>12</td>\n",
       "      <td>pieces</td>\n",
       "      <td>False</td>\n",
       "    </tr>\n",
       "    <tr>\n",
       "      <th>2</th>\n",
       "      <td>eggs</td>\n",
       "      <td>2</td>\n",
       "      <td>counts</td>\n",
       "      <td>False</td>\n",
       "    </tr>\n",
       "    <tr>\n",
       "      <th>3</th>\n",
       "      <td>яйца</td>\n",
       "      <td>1</td>\n",
       "      <td>packs</td>\n",
       "      <td>False</td>\n",
       "    </tr>\n",
       "  </tbody>\n",
       "</table>\n",
       "</div>"
      ],
      "text/plain": [
       "     To buy  Amount    Unit   Done\n",
       "0  potatoes       3      kg  False\n",
       "1      eggs      12  pieces  False\n",
       "2      eggs       2  counts  False\n",
       "3      яйца       1   packs  False"
      ]
     },
     "execution_count": 174,
     "metadata": {},
     "output_type": "execute_result"
    }
   ],
   "source": [
    "data_df"
   ]
  },
  {
   "cell_type": "code",
   "execution_count": 177,
   "metadata": {},
   "outputs": [],
   "source": [
    "def filter_shopping_list(data_df):\n",
    "    for i in data_df.index:\n",
    "        for j in data_df.index:\n",
    "            if i != j and data_df.loc[i, 'To buy'] is not None and data_df.loc[j, 'To buy'] is not None:\n",
    "                if data_df.loc[i, 'To buy'].lower() == data_df.loc[j, 'To buy'].lower():\n",
    "                    data_df.loc[i,'Amount'] += data_df.loc[j,'Amount']\n",
    "                    data_df.loc[j, 'To buy'] = None\n",
    "                else:\n",
    "                    try:\n",
    "                        if get_mistral_compare_items(data_df.loc[i, 'To buy'], data_df.loc[j, 'To buy']) == True:\n",
    "                            data_df.loc[i,'Amount'] += data_df.loc[j,'Amount']\n",
    "                            data_df.loc[j, 'To buy'] = None\n",
    "                    except Exception as e:\n",
    "                        print(e)\n",
    "    data_df = data_df.dropna()\n",
    "    return data_df"
   ]
  },
  {
   "cell_type": "code",
   "execution_count": 178,
   "metadata": {},
   "outputs": [
    {
     "name": "stdout",
     "output_type": "stream",
     "text": [
      "No, \"potatoes\" and \"eggs\" are not the same and are usually located in different sections of a grocery store. Potatoes are typically found in the produce section, while eggs are usually located in the dairy or refrigerated section.\n",
      "No.\n",
      "No, \"potatoes\" and \"eggs\" are not the same, as they are typically found in different sections of a grocery store. Potatoes are usually found in the produce section, while eggs are typically found in the dairy or refrigerated section.\n",
      "No.\n",
      "No, \"potatoes\" and \"яйца\" (which means \"eggs\" in English) are not the same. They are found in different sections of a grocery store. Potatoes are typically found in the produce section, while eggs are usually found in the dairy or refrigerated section.\n",
      "No.\n",
      "No, eggs and potatoes are not the same in terms of being found in the same section or location within the store. Eggs are typically found in the dairy section, while potatoes are found in the produce section.\n",
      "No.\n",
      "Yes, \"eggs\" and \"яйца\" are the same, as they refer to the same product and would be found in the same section of a grocery store.\n",
      "Yes\n"
     ]
    },
    {
     "data": {
      "text/html": [
       "<div>\n",
       "<style scoped>\n",
       "    .dataframe tbody tr th:only-of-type {\n",
       "        vertical-align: middle;\n",
       "    }\n",
       "\n",
       "    .dataframe tbody tr th {\n",
       "        vertical-align: top;\n",
       "    }\n",
       "\n",
       "    .dataframe thead th {\n",
       "        text-align: right;\n",
       "    }\n",
       "</style>\n",
       "<table border=\"1\" class=\"dataframe\">\n",
       "  <thead>\n",
       "    <tr style=\"text-align: right;\">\n",
       "      <th></th>\n",
       "      <th>To buy</th>\n",
       "      <th>Amount</th>\n",
       "      <th>Unit</th>\n",
       "      <th>Done</th>\n",
       "    </tr>\n",
       "  </thead>\n",
       "  <tbody>\n",
       "    <tr>\n",
       "      <th>0</th>\n",
       "      <td>potatoes</td>\n",
       "      <td>3</td>\n",
       "      <td>kg</td>\n",
       "      <td>False</td>\n",
       "    </tr>\n",
       "    <tr>\n",
       "      <th>1</th>\n",
       "      <td>eggs</td>\n",
       "      <td>15</td>\n",
       "      <td>pieces</td>\n",
       "      <td>False</td>\n",
       "    </tr>\n",
       "  </tbody>\n",
       "</table>\n",
       "</div>"
      ],
      "text/plain": [
       "     To buy  Amount    Unit   Done\n",
       "0  potatoes       3      kg  False\n",
       "1      eggs      15  pieces  False"
      ]
     },
     "execution_count": 178,
     "metadata": {},
     "output_type": "execute_result"
    }
   ],
   "source": [
    "filter_shopping_list(data_df)"
   ]
  },
  {
   "cell_type": "code",
   "execution_count": 184,
   "metadata": {},
   "outputs": [],
   "source": [
    "def mistral_create_csv(input):\n",
    "    \"\"\"\n",
    "    Asks Mistral to create csv from the text of the list\n",
    "    \"\"\"\n",
    "    #step 1\n",
    "    chat_response = client.chat(\n",
    "    model=model, #\n",
    "    messages=[ChatMessage(role=\"user\", content=f\"\"\"Organize this shopping list in a csv file with columns: Item, Amount, Unit. Write it so I can open it in pandas later, so no additional text or comments.\n",
    "                          {input}\"\"\")])\n",
    "    res1 = chat_response.choices[0].message.content\n",
    "    return res1\n",
    "    "
   ]
  },
  {
   "cell_type": "code",
   "execution_count": 191,
   "metadata": {},
   "outputs": [],
   "source": []
  },
  {
   "cell_type": "code",
   "execution_count": 192,
   "metadata": {},
   "outputs": [],
   "source": [
    "string_data = StringIO(mistral_create_csv(\"\"\"✓ рыба\n",
    "    ✓ листы для шаурмы или листья салата\n",
    "    ✓ сухарики\n",
    "    ✓ фрукты для салата и на десерт \n",
    "    ✓ авокадо для завтрака\n",
    "    ✓ 350 g d' oignon\n",
    "    ✓ авокадо \n",
    "    ✓ огурец\n",
    "    ✓ 350 g de poivron de couleur rouge et vert\n",
    "    ✓ 350 g de courgette\n",
    "    ✓ 500 g de tomate bien mûres\"\"\"))"
   ]
  },
  {
   "cell_type": "code",
   "execution_count": 193,
   "metadata": {},
   "outputs": [
    {
     "data": {
      "text/html": [
       "<div>\n",
       "<style scoped>\n",
       "    .dataframe tbody tr th:only-of-type {\n",
       "        vertical-align: middle;\n",
       "    }\n",
       "\n",
       "    .dataframe tbody tr th {\n",
       "        vertical-align: top;\n",
       "    }\n",
       "\n",
       "    .dataframe thead th {\n",
       "        text-align: right;\n",
       "    }\n",
       "</style>\n",
       "<table border=\"1\" class=\"dataframe\">\n",
       "  <thead>\n",
       "    <tr style=\"text-align: right;\">\n",
       "      <th></th>\n",
       "      <th>Item</th>\n",
       "      <th>Amount</th>\n",
       "      <th>Unit</th>\n",
       "    </tr>\n",
       "  </thead>\n",
       "  <tbody>\n",
       "    <tr>\n",
       "      <th>0</th>\n",
       "      <td>рыба</td>\n",
       "      <td>NaN</td>\n",
       "      <td>NaN</td>\n",
       "    </tr>\n",
       "    <tr>\n",
       "      <th>1</th>\n",
       "      <td>листы для шаурмы или листья салата</td>\n",
       "      <td>NaN</td>\n",
       "      <td>NaN</td>\n",
       "    </tr>\n",
       "    <tr>\n",
       "      <th>2</th>\n",
       "      <td>сухарики</td>\n",
       "      <td>NaN</td>\n",
       "      <td>NaN</td>\n",
       "    </tr>\n",
       "    <tr>\n",
       "      <th>3</th>\n",
       "      <td>фрукты для салата и на десерт</td>\n",
       "      <td>NaN</td>\n",
       "      <td>NaN</td>\n",
       "    </tr>\n",
       "    <tr>\n",
       "      <th>4</th>\n",
       "      <td>авокадо для завтрака</td>\n",
       "      <td>NaN</td>\n",
       "      <td>NaN</td>\n",
       "    </tr>\n",
       "    <tr>\n",
       "      <th>5</th>\n",
       "      <td>авокадо</td>\n",
       "      <td>NaN</td>\n",
       "      <td>NaN</td>\n",
       "    </tr>\n",
       "    <tr>\n",
       "      <th>6</th>\n",
       "      <td>огурец</td>\n",
       "      <td>NaN</td>\n",
       "      <td>NaN</td>\n",
       "    </tr>\n",
       "    <tr>\n",
       "      <th>7</th>\n",
       "      <td>oignon</td>\n",
       "      <td>350.0</td>\n",
       "      <td>g</td>\n",
       "    </tr>\n",
       "    <tr>\n",
       "      <th>8</th>\n",
       "      <td>poivron de couleur rouge et vert</td>\n",
       "      <td>350.0</td>\n",
       "      <td>g</td>\n",
       "    </tr>\n",
       "    <tr>\n",
       "      <th>9</th>\n",
       "      <td>courgette</td>\n",
       "      <td>350.0</td>\n",
       "      <td>g</td>\n",
       "    </tr>\n",
       "    <tr>\n",
       "      <th>10</th>\n",
       "      <td>tomate bien mûres</td>\n",
       "      <td>500.0</td>\n",
       "      <td>g</td>\n",
       "    </tr>\n",
       "  </tbody>\n",
       "</table>\n",
       "</div>"
      ],
      "text/plain": [
       "                                  Item  Amount Unit\n",
       "0                                 рыба     NaN  NaN\n",
       "1   листы для шаурмы или листья салата     NaN  NaN\n",
       "2                             сухарики     NaN  NaN\n",
       "3        фрукты для салата и на десерт     NaN  NaN\n",
       "4                 авокадо для завтрака     NaN  NaN\n",
       "5                              авокадо     NaN  NaN\n",
       "6                               огурец     NaN  NaN\n",
       "7                               oignon   350.0    g\n",
       "8     poivron de couleur rouge et vert   350.0    g\n",
       "9                            courgette   350.0    g\n",
       "10                   tomate bien mûres   500.0    g"
      ]
     },
     "execution_count": 193,
     "metadata": {},
     "output_type": "execute_result"
    }
   ],
   "source": [
    "df = pd.read_csv(string_data)\n",
    "df"
   ]
  },
  {
   "cell_type": "code",
   "execution_count": null,
   "metadata": {},
   "outputs": [],
   "source": [
    "def create_csv(input):\n",
    "    string_data = StringIO(mistral_create_csv(f\"{input}\"))\n",
    "    return pd.read_csv(string_data)\n",
    "    "
   ]
  },
  {
   "cell_type": "code",
   "execution_count": 221,
   "metadata": {},
   "outputs": [],
   "source": [
    "input_list = []\n",
    "for i in df.index:\n",
    "    for j in df.index:\n",
    "        input_list.append((df.loc[i, 'Item'], df.loc[j, 'Item']))\n",
    "        "
   ]
  },
  {
   "cell_type": "code",
   "execution_count": 222,
   "metadata": {},
   "outputs": [],
   "source": [
    "texts = []\n",
    "for pair in input_list:\n",
    "    texts.append(f'Are \"{pair[0]}\" and \"{pair[1]}\" the same?')\n",
    "\n",
    "    "
   ]
  },
  {
   "cell_type": "code",
   "execution_count": 223,
   "metadata": {},
   "outputs": [],
   "source": [
    "import concurrent"
   ]
  },
  {
   "cell_type": "code",
   "execution_count": 224,
   "metadata": {},
   "outputs": [],
   "source": [
    "#step 1\n",
    "def mistral_compare(text):\n",
    "    chat_response = client.chat(\n",
    "    model=model,\n",
    "    messages=[ChatMessage(role=\"system\", content='You will be asked questions about items to determine if they are the same name for a product inside grocery store. Specifically, you will need to assess if item_A and item_B are the same in terms of being found in the same section or location within the store. For example, \"картошка\" and \"картофелина\" should be considered the same since they can be bought in the same place, and you should answer \"yes\". Please answer with \"yes\" or \"no\"'),\n",
    "                ChatMessage(role=\"user\", content=f'{text}')]\n",
    "    )\n",
    "    res1 = chat_response.choices[0].message.content\n",
    "    return res1\n"
   ]
  },
  {
   "cell_type": "code",
   "execution_count": 226,
   "metadata": {},
   "outputs": [],
   "source": [
    "text_results = list(results)"
   ]
  },
  {
   "cell_type": "code",
   "execution_count": 231,
   "metadata": {},
   "outputs": [
    {
     "data": {
      "text/plain": [
       "True"
      ]
     },
     "execution_count": 231,
     "metadata": {},
     "output_type": "execute_result"
    }
   ],
   "source": [
    "text_results[0].lower().startswith('yes')"
   ]
  },
  {
   "cell_type": "code",
   "execution_count": 233,
   "metadata": {},
   "outputs": [],
   "source": [
    "def mistral_compare_items(data_df=df):\n",
    "    input_list = []\n",
    "    for i in data_df.index:\n",
    "        for j in data_df.index:\n",
    "            input_list.append((data_df.loc[i, 'Item'], data_df.loc[j, 'Item']))\n",
    "            \n",
    "    texts = []\n",
    "    for pair in input_list:\n",
    "        texts.append(f'Are \"{pair[0]}\" and \"{pair[1]}\" the same?')\n",
    "        \n",
    "    with concurrent.futures.ThreadPoolExecutor(max_workers=len(texts)) as pool:\n",
    "        results = pool.map(mistral_compare, texts)\n",
    "    text_results = list(results)    \n",
    "            \n",
    "            \n",
    "    for i in data_df.index:\n",
    "        for j in data_df.index:\n",
    "            if i != j and data_df.loc[i, 'Item'] is not None and data_df.loc[j, 'Item'] is not None:\n",
    "                if data_df.loc[i, 'Item'].lower() == data_df.loc[j, 'Item'].lower():\n",
    "                    data_df.loc[i,'Amount'] += data_df.loc[j,'Amount']\n",
    "                    data_df.loc[j, 'Item'] = None\n",
    "                else:            \n",
    "                    if text_results[i*len(data_df) + j].lower().startswith('yes') == True:\n",
    "                        data_df.loc[i,'Amount'] += data_df.loc[j,'Amount']\n",
    "                        data_df.loc[j, 'Item'] = None\n",
    "                    elif text_results[i*len(data_df) + j].lower().startswith('no') == True:\n",
    "                        pass\n",
    "                    else:\n",
    "                        raise Exception(\"Mistral was unable to answer 'yes' or 'no'\")\n",
    "    return data_df"
   ]
  },
  {
   "cell_type": "code",
   "execution_count": 234,
   "metadata": {},
   "outputs": [
    {
     "data": {
      "text/html": [
       "<div>\n",
       "<style scoped>\n",
       "    .dataframe tbody tr th:only-of-type {\n",
       "        vertical-align: middle;\n",
       "    }\n",
       "\n",
       "    .dataframe tbody tr th {\n",
       "        vertical-align: top;\n",
       "    }\n",
       "\n",
       "    .dataframe thead th {\n",
       "        text-align: right;\n",
       "    }\n",
       "</style>\n",
       "<table border=\"1\" class=\"dataframe\">\n",
       "  <thead>\n",
       "    <tr style=\"text-align: right;\">\n",
       "      <th></th>\n",
       "      <th>Item</th>\n",
       "      <th>Amount</th>\n",
       "      <th>Unit</th>\n",
       "    </tr>\n",
       "  </thead>\n",
       "  <tbody>\n",
       "    <tr>\n",
       "      <th>0</th>\n",
       "      <td>рыба</td>\n",
       "      <td>NaN</td>\n",
       "      <td>NaN</td>\n",
       "    </tr>\n",
       "    <tr>\n",
       "      <th>1</th>\n",
       "      <td>листы для шаурмы или листья салата</td>\n",
       "      <td>NaN</td>\n",
       "      <td>NaN</td>\n",
       "    </tr>\n",
       "    <tr>\n",
       "      <th>2</th>\n",
       "      <td>сухарики</td>\n",
       "      <td>NaN</td>\n",
       "      <td>NaN</td>\n",
       "    </tr>\n",
       "    <tr>\n",
       "      <th>3</th>\n",
       "      <td>фрукты для салата и на десерт</td>\n",
       "      <td>NaN</td>\n",
       "      <td>NaN</td>\n",
       "    </tr>\n",
       "    <tr>\n",
       "      <th>4</th>\n",
       "      <td>авокадо для завтрака</td>\n",
       "      <td>NaN</td>\n",
       "      <td>NaN</td>\n",
       "    </tr>\n",
       "    <tr>\n",
       "      <th>5</th>\n",
       "      <td>None</td>\n",
       "      <td>NaN</td>\n",
       "      <td>NaN</td>\n",
       "    </tr>\n",
       "    <tr>\n",
       "      <th>6</th>\n",
       "      <td>None</td>\n",
       "      <td>NaN</td>\n",
       "      <td>NaN</td>\n",
       "    </tr>\n",
       "    <tr>\n",
       "      <th>7</th>\n",
       "      <td>oignon</td>\n",
       "      <td>350.0</td>\n",
       "      <td>g</td>\n",
       "    </tr>\n",
       "    <tr>\n",
       "      <th>8</th>\n",
       "      <td>poivron de couleur rouge et vert</td>\n",
       "      <td>350.0</td>\n",
       "      <td>g</td>\n",
       "    </tr>\n",
       "    <tr>\n",
       "      <th>9</th>\n",
       "      <td>courgette</td>\n",
       "      <td>350.0</td>\n",
       "      <td>g</td>\n",
       "    </tr>\n",
       "    <tr>\n",
       "      <th>10</th>\n",
       "      <td>tomate bien mûres</td>\n",
       "      <td>500.0</td>\n",
       "      <td>g</td>\n",
       "    </tr>\n",
       "  </tbody>\n",
       "</table>\n",
       "</div>"
      ],
      "text/plain": [
       "                                  Item  Amount Unit\n",
       "0                                 рыба     NaN  NaN\n",
       "1   листы для шаурмы или листья салата     NaN  NaN\n",
       "2                             сухарики     NaN  NaN\n",
       "3        фрукты для салата и на десерт     NaN  NaN\n",
       "4                 авокадо для завтрака     NaN  NaN\n",
       "5                                 None     NaN  NaN\n",
       "6                                 None     NaN  NaN\n",
       "7                               oignon   350.0    g\n",
       "8     poivron de couleur rouge et vert   350.0    g\n",
       "9                            courgette   350.0    g\n",
       "10                   tomate bien mûres   500.0    g"
      ]
     },
     "execution_count": 234,
     "metadata": {},
     "output_type": "execute_result"
    }
   ],
   "source": [
    "mistral_compare_items()"
   ]
  },
  {
   "cell_type": "code",
   "execution_count": 194,
   "metadata": {},
   "outputs": [],
   "source": [
    "def get_mistral_compare_items(item_A, item_B):\n",
    "    \"\"\"\n",
    "    Asks Mistral to compare two items from the list and say if it's the same thing \n",
    "    \"\"\"\n",
    "    \n",
    "    \n",
    "    #step 1\n",
    "    chat_response = client.chat(\n",
    "    model=model,\n",
    "    messages=[ChatMessage(role=\"system\", content='You will be asked questions about items to determine if they are the same name for a product inside grocery store. Specifically, you will need to assess if item_A and item_B are the same in terms of being found in the same section or location within the store. For example, \"картошка\" and \"картофелина\" should be considered the same since they can be bought in the same place, and you should answer \"yes\". Please answer with \"yes\" or \"no\"'),\n",
    "              ChatMessage(role=\"user\", content=f'Are \"{item_A}\" and \"{item_B}\" the same?')]\n",
    "    )\n",
    "    res1 = chat_response.choices[0].message.content\n",
    "    \n",
    "    if \"yes\" in res1.lower(): #need to properly regex this\n",
    "        return True\n",
    "    elif \"no\" in res1.lower():\n",
    "        return False\n",
    "    else:\n",
    "        #raise Exception(\"Mistral was unable to answer 'yes' or 'no'\")\n",
    "            # step 2\n",
    "        chat_response2 = client.chat(\n",
    "        model=model,\n",
    "        messages=[ChatMessage(role=\"system\", content='You will be given an answer to a certain question and you are need to summarize the answer as \"yes\" or \"no\". Answer only with \"yes\" or \"no\".'),\n",
    "                ChatMessage(role=\"user\", content=f'Does this text means \"yes\" or \"no\"? text:{res1}')]\n",
    "        )\n",
    "        res2 = chat_response2.choices[0].message.content\n",
    "        \n",
    "        if \"yes\" in res2.lower(): #need to properly regex this\n",
    "            return True\n",
    "        elif \"no\" in res2.lower():\n",
    "            return False\n",
    "        else:\n",
    "            raise Exception(\"Mistral was unable to answer 'yes' or 'no'\")"
   ]
  },
  {
   "cell_type": "code",
   "execution_count": 195,
   "metadata": {},
   "outputs": [
    {
     "data": {
      "text/plain": [
       "True"
      ]
     },
     "execution_count": 195,
     "metadata": {},
     "output_type": "execute_result"
    }
   ],
   "source": [
    "get_mistral_compare_items('egg', 'oeuf')"
   ]
  }
 ],
 "metadata": {
  "kernelspec": {
   "display_name": "Python 3",
   "language": "python",
   "name": "python3"
  },
  "language_info": {
   "codemirror_mode": {
    "name": "ipython",
    "version": 3
   },
   "file_extension": ".py",
   "mimetype": "text/x-python",
   "name": "python",
   "nbconvert_exporter": "python",
   "pygments_lexer": "ipython3",
   "version": "3.10.0"
  }
 },
 "nbformat": 4,
 "nbformat_minor": 2
}
