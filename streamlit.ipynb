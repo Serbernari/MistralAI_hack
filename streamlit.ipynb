{
 "cells": [
  {
   "cell_type": "code",
   "execution_count": 3,
   "metadata": {},
   "outputs": [],
   "source": [
    "from mistralai.client import MistralClient\n",
    "from mistralai.models.chat_completion import ChatMessage\n",
    "\n",
    "api_key = \"dnDSPYh1mNwZyGRSQgjCPKQc144MfMng\"\n",
    "model = \"mistral-large-latest\"\n",
    "\n",
    "client = MistralClient(api_key=api_key)"
   ]
  },
  {
   "cell_type": "code",
   "execution_count": null,
   "metadata": {},
   "outputs": [],
   "source": [
    "chat_response = client.chat(\n",
    "    model=model,\n",
    "    messages=[ChatMessage(role=\"user\", content=\"What is the best French cheese?\")]\n",
    ")\n",
    "\n",
    "print(chat_response.choices[0].message.content)"
   ]
  },
  {
   "cell_type": "code",
   "execution_count": 64,
   "metadata": {},
   "outputs": [],
   "source": [
    "def get_mistral_compare_items(item_A, item_B):\n",
    "    \"\"\"\n",
    "    Asks Mistral to compare two items from the list and say if it's the same thing \n",
    "    \"\"\"\n",
    "    #step 1\n",
    "    chat_response = client.chat(\n",
    "    model=model,\n",
    "    messages=[ChatMessage(role=\"system\", content='You will be asked questions about items to determine if they are the same name for a product inside grocery store. Specifically, you will need to assess if item_A and item_B are the same in terms of being found in the same section or location within the store. For example, \"картошка\" and \"картофелина\" should be considered the same since they can be bought in the same place, and you should answer \"yes\". Please answer with \"yes\" or \"no\"'),\n",
    "              ChatMessage(role=\"user\", content=f'If \"{item_A}\" and \"{item_B}\" are the same?')]\n",
    "    )\n",
    "    res1 = chat_response.choices[0].message.content\n",
    "    \n",
    "    # step 2\n",
    "    chat_response2 = client.chat(\n",
    "    model=model,\n",
    "    messages=[ChatMessage(role=\"system\", content='You will be given an answer to a certain question and you are need to summarize the answer as \"yes\" or \"no\". Answer only with \"yes\" or \"no\".'),\n",
    "              ChatMessage(role=\"user\", content=f'Does this text means \"yes\" or \"no\"? text:{res1}')]\n",
    "    )\n",
    "    res2 = chat_response2.choices[0].message.content\n",
    " \n",
    "    if \"yes\" in res2.lower(): #need to properly regex this\n",
    "        return True\n",
    "    elif \"no\" in res2.lower():\n",
    "        return False\n",
    "    else:\n",
    "        raise Exception(\"Mistral was unable to answer 'yes' or 'no'\") \n"
   ]
  },
  {
   "cell_type": "code",
   "execution_count": 110,
   "metadata": {},
   "outputs": [],
   "source": [
    "def get_mistral_convert_units(item):\n",
    "    \"\"\"\n",
    "    Asks Mistral to compare two items from the list and say if it's the same thing \n",
    "    \"\"\"\n",
    "    #step 1\n",
    "    chat_response = client.chat(\n",
    "    model=model, #\n",
    "    messages=[ChatMessage(role=\"user\", content=f'Please convert this unit into the International System of Units: \"1 bottle of vodka\" I need it to go to shop in France and I want all items to be represented in the same measurements. I want pack of milk represented as 1 liter, 1 potato as 0.15 kg and so on. Please provide short answer')])\n",
    "    res1 = chat_response.choices[0].message.content\n",
    "    \n",
    "        # step 2\n",
    "    chat_response2 = client.chat(\n",
    "    model=model,\n",
    "    messages=[ChatMessage(role=\"system\", content='Extract number and SI unit from the given text. Format your text like \"10 kilograms\" or \"1 litre\"'),\n",
    "              ChatMessage(role=\"user\", content=f'text:{res1}')]\n",
    "    )\n",
    "    res2 = chat_response2.choices[0].message.content\n",
    "    \n",
    "            # step 3\n",
    "    chat_response3 = client.chat(\n",
    "    model=model,\n",
    "    messages=[ChatMessage(role=\"system\", content='Extract number and SI unit from the given text. Format your text like \"10 kilograms\" or \"1 litre\". Answer only with number and unit, nothing else.'),\n",
    "              ChatMessage(role=\"user\", content=f'text:{res2}')]\n",
    "    )\n",
    "    res3 = chat_response3.choices[0].message.content\n",
    "    \n",
    "    return res3\n",
    "\n",
    "\n",
    "    \n"
   ]
  },
  {
   "cell_type": "code",
   "execution_count": 111,
   "metadata": {},
   "outputs": [
    {
     "data": {
      "text/plain": [
       "'0.75 liters'"
      ]
     },
     "execution_count": 111,
     "metadata": {},
     "output_type": "execute_result"
    }
   ],
   "source": [
    "get_mistral_convert_units(\"s\")"
   ]
  },
  {
   "cell_type": "code",
   "execution_count": 17,
   "metadata": {},
   "outputs": [
    {
     "data": {
      "text/plain": [
       "'No. \"Бульба\" is a Ukrainian word that can refer to various root vegetables, not just potatoes. In English, it\\'s often translated as \"tuber\" or \"root crop\". While it can include potatoes, it may also refer to beets, carrots, or other root vegetables. So, in a grocery store, \"бульба\" and \"potatoes\" would not necessarily refer to the same thing.'"
      ]
     },
     "execution_count": 17,
     "metadata": {},
     "output_type": "execute_result"
    }
   ],
   "source": [
    "get_mistral_answer('From the point of view of finding these items in a grocery store, are \"бульба\" and \"potatoes\" the same? Please answer with \"yes\" or \"no\" only, with no further explanations.')"
   ]
  },
  {
   "cell_type": "code",
   "execution_count": 21,
   "metadata": {},
   "outputs": [
    {
     "data": {
      "text/plain": [
       "'No.'"
      ]
     },
     "execution_count": 21,
     "metadata": {},
     "output_type": "execute_result"
    }
   ],
   "source": [
    "get_mistral_answer(\"\"\"Does this text means \"yes\" or \"no\"? Please answer with \"yes\" or \"no\" only. \n",
    "                   The text: No. \"Бульба\" is a Ukrainian word that can refer to various root vegetables, not just potatoes. In English, it\\'s often translated as \"tuber\" or \"root crop\". While it can include potatoes, it may also refer to beets, carrots, or other root vegetables. So, in a grocery store, \"бульба\" and \"potatoes\" would not necessarily refer to the same thing\"\"\")"
   ]
  },
  {
   "cell_type": "code",
   "execution_count": 112,
   "metadata": {},
   "outputs": [],
   "source": [
    "import pandas as pd"
   ]
  },
  {
   "cell_type": "code",
   "execution_count": 173,
   "metadata": {},
   "outputs": [],
   "source": [
    "data_df = pd.DataFrame(\n",
    "    {\n",
    "        \"To buy\": [\"potatoes\", \"eggs\", \"eggs\", \"яйца\"],\n",
    "        \"Amount\": [3, 12, 2, 1],\n",
    "        \"Unit\": [\"kg\", \"pieces\", \"counts\", \"packs\"],\n",
    "        \"Done\": [False, False, False, False]\n",
    "    }\n",
    ")"
   ]
  },
  {
   "cell_type": "code",
   "execution_count": 174,
   "metadata": {},
   "outputs": [
    {
     "data": {
      "text/html": [
       "<div>\n",
       "<style scoped>\n",
       "    .dataframe tbody tr th:only-of-type {\n",
       "        vertical-align: middle;\n",
       "    }\n",
       "\n",
       "    .dataframe tbody tr th {\n",
       "        vertical-align: top;\n",
       "    }\n",
       "\n",
       "    .dataframe thead th {\n",
       "        text-align: right;\n",
       "    }\n",
       "</style>\n",
       "<table border=\"1\" class=\"dataframe\">\n",
       "  <thead>\n",
       "    <tr style=\"text-align: right;\">\n",
       "      <th></th>\n",
       "      <th>To buy</th>\n",
       "      <th>Amount</th>\n",
       "      <th>Unit</th>\n",
       "      <th>Done</th>\n",
       "    </tr>\n",
       "  </thead>\n",
       "  <tbody>\n",
       "    <tr>\n",
       "      <th>0</th>\n",
       "      <td>potatoes</td>\n",
       "      <td>3</td>\n",
       "      <td>kg</td>\n",
       "      <td>False</td>\n",
       "    </tr>\n",
       "    <tr>\n",
       "      <th>1</th>\n",
       "      <td>eggs</td>\n",
       "      <td>12</td>\n",
       "      <td>pieces</td>\n",
       "      <td>False</td>\n",
       "    </tr>\n",
       "    <tr>\n",
       "      <th>2</th>\n",
       "      <td>eggs</td>\n",
       "      <td>2</td>\n",
       "      <td>counts</td>\n",
       "      <td>False</td>\n",
       "    </tr>\n",
       "    <tr>\n",
       "      <th>3</th>\n",
       "      <td>яйца</td>\n",
       "      <td>1</td>\n",
       "      <td>packs</td>\n",
       "      <td>False</td>\n",
       "    </tr>\n",
       "  </tbody>\n",
       "</table>\n",
       "</div>"
      ],
      "text/plain": [
       "     To buy  Amount    Unit   Done\n",
       "0  potatoes       3      kg  False\n",
       "1      eggs      12  pieces  False\n",
       "2      eggs       2  counts  False\n",
       "3      яйца       1   packs  False"
      ]
     },
     "execution_count": 174,
     "metadata": {},
     "output_type": "execute_result"
    }
   ],
   "source": [
    "data_df"
   ]
  },
  {
   "cell_type": "code",
   "execution_count": 177,
   "metadata": {},
   "outputs": [],
   "source": [
    "def filter_shopping_list(data_df):\n",
    "    for i in data_df.index:\n",
    "        for j in data_df.index:\n",
    "            if i != j and data_df.loc[i, 'To buy'] is not None and data_df.loc[j, 'To buy'] is not None:\n",
    "                if data_df.loc[i, 'To buy'].lower() == data_df.loc[j, 'To buy'].lower():\n",
    "                    data_df.loc[i,'Amount'] += data_df.loc[j,'Amount']\n",
    "                    data_df.loc[j, 'To buy'] = None\n",
    "                else:\n",
    "                    try:\n",
    "                        if get_mistral_compare_items(data_df.loc[i, 'To buy'], data_df.loc[j, 'To buy']) == True:\n",
    "                            data_df.loc[i,'Amount'] += data_df.loc[j,'Amount']\n",
    "                            data_df.loc[j, 'To buy'] = None\n",
    "                    except Exception as e:\n",
    "                        print(e)\n",
    "    data_df = data_df.dropna()\n",
    "    return data_df"
   ]
  },
  {
   "cell_type": "code",
   "execution_count": 178,
   "metadata": {},
   "outputs": [
    {
     "name": "stdout",
     "output_type": "stream",
     "text": [
      "No, \"potatoes\" and \"eggs\" are not the same and are usually located in different sections of a grocery store. Potatoes are typically found in the produce section, while eggs are usually located in the dairy or refrigerated section.\n",
      "No.\n",
      "No, \"potatoes\" and \"eggs\" are not the same, as they are typically found in different sections of a grocery store. Potatoes are usually found in the produce section, while eggs are typically found in the dairy or refrigerated section.\n",
      "No.\n",
      "No, \"potatoes\" and \"яйца\" (which means \"eggs\" in English) are not the same. They are found in different sections of a grocery store. Potatoes are typically found in the produce section, while eggs are usually found in the dairy or refrigerated section.\n",
      "No.\n",
      "No, eggs and potatoes are not the same in terms of being found in the same section or location within the store. Eggs are typically found in the dairy section, while potatoes are found in the produce section.\n",
      "No.\n",
      "Yes, \"eggs\" and \"яйца\" are the same, as they refer to the same product and would be found in the same section of a grocery store.\n",
      "Yes\n"
     ]
    },
    {
     "data": {
      "text/html": [
       "<div>\n",
       "<style scoped>\n",
       "    .dataframe tbody tr th:only-of-type {\n",
       "        vertical-align: middle;\n",
       "    }\n",
       "\n",
       "    .dataframe tbody tr th {\n",
       "        vertical-align: top;\n",
       "    }\n",
       "\n",
       "    .dataframe thead th {\n",
       "        text-align: right;\n",
       "    }\n",
       "</style>\n",
       "<table border=\"1\" class=\"dataframe\">\n",
       "  <thead>\n",
       "    <tr style=\"text-align: right;\">\n",
       "      <th></th>\n",
       "      <th>To buy</th>\n",
       "      <th>Amount</th>\n",
       "      <th>Unit</th>\n",
       "      <th>Done</th>\n",
       "    </tr>\n",
       "  </thead>\n",
       "  <tbody>\n",
       "    <tr>\n",
       "      <th>0</th>\n",
       "      <td>potatoes</td>\n",
       "      <td>3</td>\n",
       "      <td>kg</td>\n",
       "      <td>False</td>\n",
       "    </tr>\n",
       "    <tr>\n",
       "      <th>1</th>\n",
       "      <td>eggs</td>\n",
       "      <td>15</td>\n",
       "      <td>pieces</td>\n",
       "      <td>False</td>\n",
       "    </tr>\n",
       "  </tbody>\n",
       "</table>\n",
       "</div>"
      ],
      "text/plain": [
       "     To buy  Amount    Unit   Done\n",
       "0  potatoes       3      kg  False\n",
       "1      eggs      15  pieces  False"
      ]
     },
     "execution_count": 178,
     "metadata": {},
     "output_type": "execute_result"
    }
   ],
   "source": [
    "filter_shopping_list(data_df)"
   ]
  },
  {
   "cell_type": "code",
   "execution_count": 184,
   "metadata": {},
   "outputs": [],
   "source": [
    "def mistral_create_csv(input):\n",
    "    \"\"\"\n",
    "    Asks Mistral to create csv from the text of the list\n",
    "    \"\"\"\n",
    "    #step 1\n",
    "    chat_response = client.chat(\n",
    "    model=model, #\n",
    "    messages=[ChatMessage(role=\"user\", content=f\"\"\"Organize this shopping list in a csv file with columns: Item, Amount, Unit. Write it so I can open it in pandas later, so no additional text or comments.\n",
    "                          {input}\"\"\")])\n",
    "    res1 = chat_response.choices[0].message.content\n",
    "    return res1\n",
    "    "
   ]
  },
  {
   "cell_type": "code",
   "execution_count": 191,
   "metadata": {},
   "outputs": [],
   "source": []
  },
  {
   "cell_type": "code",
   "execution_count": 192,
   "metadata": {},
   "outputs": [],
   "source": [
    "string_data = StringIO(mistral_create_csv(\"\"\"✓ рыба\n",
    "    ✓ листы для шаурмы или листья салата\n",
    "    ✓ сухарики\n",
    "    ✓ фрукты для салата и на десерт \n",
    "    ✓ авокадо для завтрака\n",
    "    ✓ 350 g d' oignon\n",
    "    ✓ авокадо \n",
    "    ✓ огурец\n",
    "    ✓ 350 g de poivron de couleur rouge et vert\n",
    "    ✓ 350 g de courgette\n",
    "    ✓ 500 g de tomate bien mûres\"\"\"))"
   ]
  },
  {
   "cell_type": "code",
   "execution_count": 193,
   "metadata": {},
   "outputs": [
    {
     "data": {
      "text/html": [
       "<div>\n",
       "<style scoped>\n",
       "    .dataframe tbody tr th:only-of-type {\n",
       "        vertical-align: middle;\n",
       "    }\n",
       "\n",
       "    .dataframe tbody tr th {\n",
       "        vertical-align: top;\n",
       "    }\n",
       "\n",
       "    .dataframe thead th {\n",
       "        text-align: right;\n",
       "    }\n",
       "</style>\n",
       "<table border=\"1\" class=\"dataframe\">\n",
       "  <thead>\n",
       "    <tr style=\"text-align: right;\">\n",
       "      <th></th>\n",
       "      <th>Item</th>\n",
       "      <th>Amount</th>\n",
       "      <th>Unit</th>\n",
       "    </tr>\n",
       "  </thead>\n",
       "  <tbody>\n",
       "    <tr>\n",
       "      <th>0</th>\n",
       "      <td>рыба</td>\n",
       "      <td>NaN</td>\n",
       "      <td>NaN</td>\n",
       "    </tr>\n",
       "    <tr>\n",
       "      <th>1</th>\n",
       "      <td>листы для шаурмы или листья салата</td>\n",
       "      <td>NaN</td>\n",
       "      <td>NaN</td>\n",
       "    </tr>\n",
       "    <tr>\n",
       "      <th>2</th>\n",
       "      <td>сухарики</td>\n",
       "      <td>NaN</td>\n",
       "      <td>NaN</td>\n",
       "    </tr>\n",
       "    <tr>\n",
       "      <th>3</th>\n",
       "      <td>фрукты для салата и на десерт</td>\n",
       "      <td>NaN</td>\n",
       "      <td>NaN</td>\n",
       "    </tr>\n",
       "    <tr>\n",
       "      <th>4</th>\n",
       "      <td>авокадо для завтрака</td>\n",
       "      <td>NaN</td>\n",
       "      <td>NaN</td>\n",
       "    </tr>\n",
       "    <tr>\n",
       "      <th>5</th>\n",
       "      <td>авокадо</td>\n",
       "      <td>NaN</td>\n",
       "      <td>NaN</td>\n",
       "    </tr>\n",
       "    <tr>\n",
       "      <th>6</th>\n",
       "      <td>огурец</td>\n",
       "      <td>NaN</td>\n",
       "      <td>NaN</td>\n",
       "    </tr>\n",
       "    <tr>\n",
       "      <th>7</th>\n",
       "      <td>oignon</td>\n",
       "      <td>350.0</td>\n",
       "      <td>g</td>\n",
       "    </tr>\n",
       "    <tr>\n",
       "      <th>8</th>\n",
       "      <td>poivron de couleur rouge et vert</td>\n",
       "      <td>350.0</td>\n",
       "      <td>g</td>\n",
       "    </tr>\n",
       "    <tr>\n",
       "      <th>9</th>\n",
       "      <td>courgette</td>\n",
       "      <td>350.0</td>\n",
       "      <td>g</td>\n",
       "    </tr>\n",
       "    <tr>\n",
       "      <th>10</th>\n",
       "      <td>tomate bien mûres</td>\n",
       "      <td>500.0</td>\n",
       "      <td>g</td>\n",
       "    </tr>\n",
       "  </tbody>\n",
       "</table>\n",
       "</div>"
      ],
      "text/plain": [
       "                                  Item  Amount Unit\n",
       "0                                 рыба     NaN  NaN\n",
       "1   листы для шаурмы или листья салата     NaN  NaN\n",
       "2                             сухарики     NaN  NaN\n",
       "3        фрукты для салата и на десерт     NaN  NaN\n",
       "4                 авокадо для завтрака     NaN  NaN\n",
       "5                              авокадо     NaN  NaN\n",
       "6                               огурец     NaN  NaN\n",
       "7                               oignon   350.0    g\n",
       "8     poivron de couleur rouge et vert   350.0    g\n",
       "9                            courgette   350.0    g\n",
       "10                   tomate bien mûres   500.0    g"
      ]
     },
     "execution_count": 193,
     "metadata": {},
     "output_type": "execute_result"
    }
   ],
   "source": [
    "df = pd.read_csv(string_data)\n",
    "df"
   ]
  },
  {
   "cell_type": "code",
   "execution_count": null,
   "metadata": {},
   "outputs": [],
   "source": [
    "def create_csv(input):\n",
    "    string_data = StringIO(mistral_create_csv(f\"{input}\"))\n",
    "    return pd.read_csv(string_data)\n",
    "    "
   ]
  },
  {
   "cell_type": "code",
   "execution_count": 203,
   "metadata": {},
   "outputs": [],
   "source": [
    "input_list = []\n",
    "for i in df.index:\n",
    "    for j in df.index:\n",
    "        input_list.append((df.loc[i, 'Item'], df.loc[j, 'Item']))\n",
    "        "
   ]
  },
  {
   "cell_type": "code",
   "execution_count": 209,
   "metadata": {},
   "outputs": [],
   "source": [
    "texts = []\n",
    "for pair in input_list:\n",
    "    texts.append(f'Are \"{pair[0]}\" and \"{pair[1]}\" the same?')\n",
    "\n",
    "    "
   ]
  },
  {
   "cell_type": "code",
   "execution_count": 208,
   "metadata": {},
   "outputs": [],
   "source": [
    "import concurrent"
   ]
  },
  {
   "cell_type": "code",
   "execution_count": 210,
   "metadata": {},
   "outputs": [],
   "source": [
    "#step 1\n",
    "def mistral_compare(text):\n",
    "    chat_response = client.chat(\n",
    "    model=model,\n",
    "    messages=[ChatMessage(role=\"system\", content='You will be asked questions about items to determine if they are the same name for a product inside grocery store. Specifically, you will need to assess if item_A and item_B are the same in terms of being found in the same section or location within the store. For example, \"картошка\" and \"картофелина\" should be considered the same since they can be bought in the same place, and you should answer \"yes\". Please answer with \"yes\" or \"no\"'),\n",
    "                ChatMessage(role=\"user\", content=f'{text}')]\n",
    "    )\n",
    "    res1 = chat_response.choices[0].message.content\n",
    "    return res1\n"
   ]
  },
  {
   "cell_type": "code",
   "execution_count": 211,
   "metadata": {},
   "outputs": [],
   "source": [
    "\n",
    "with concurrent.futures.ThreadPoolExecutor(max_workers=len(texts)) as pool:\n",
    "    results = pool.map(mistral_compare, texts)"
   ]
  },
  {
   "cell_type": "code",
   "execution_count": 217,
   "metadata": {},
   "outputs": [
    {
     "data": {
      "text/plain": [
       "['No, \"рыба\" (fish) and \"листы для шаурмы или листья салата\" (shawarma leaves or lettuce leaves) are not the same. They are typically found in different sections of a grocery store. Fish is usually located in the seafood section or frozen food aisle, while shawarma leaves and lettuce are found in the produce section.',\n",
       " 'No, \"рыба\" (fish) and \"сухарики\" (crackers or bread sticks) are not the same. They are typically found in different sections of a grocery store. Fish is usually in the seafood or frozen food section, while crackers or bread sticks are in the snack or bakery aisle.',\n",
       " 'No, \"рыба\" (fish) and \"фрукты для салата и на десерт\" (fruits for salad and dessert) would not be found in the same section or location within a grocery store. Fish is typically found in the seafood or frozen food section, while fruits for salad and dessert would be found in the produce section.',\n",
       " 'No, \"рыба\" (fish) and \"авокадо для завтрака\" (avocado for breakfast) are not the same. They are found in different sections of a grocery store. Fish is typically found in the seafood or frozen food section, while avocados are found in the produce section.',\n",
       " 'No, \"рыба\" (fish) and \"авокадо\" (avocado) are not the same. They are found in different sections of a grocery store. Fish is typically found in the seafood or frozen food section, while avocados are found in the produce section.',\n",
       " 'No, \"рыба\" (fish) and \"огурец\" (cucumber) are not the same. They are found in different sections of a grocery store. Fish is typically found in the seafood or frozen food section, while cucumbers are found in the produce section.',\n",
       " 'No, \"рыба\" is the Russian word for \"fish,\" and \"oignon\" is the French word for \"onion.\" They are not the same and would be found in different sections of a grocery store. Fish would typically be in the seafood or frozen section, while onions would be in the produce section.',\n",
       " 'No, \"рыба\" is the Russian word for \"fish,\" and \"poivron de couleur rouge et vert\" is French for \"red and green bell peppers.\" These items would be found in different sections of a grocery store.',\n",
       " 'No, \"рыба\" is the Russian word for \"fish,\" while \"courgette\" is a type of squash. They would be found in different sections of the grocery store.',\n",
       " 'No, \"рыба\" (fish) and \"tomate bien mûres\" (ripe tomatoes) are not the same. They are found in different sections of the grocery store, with fish typically located in the seafood or frozen food section, and ripe tomatoes found in the produce section.',\n",
       " 'No, \"листы для шаурмы или листья салата\" (shawarma leaves or lettuce leaves) and \"рыба\" (fish) are not the same. They are typically found in different sections of a grocery store. Lettuce or shawarma leaves are usually found in the produce section, while fish is found in the seafood or frozen foods section.',\n",
       " 'Yes, \"листы для шаурмы или листья салата\" and \"листы для шаурмы или листья салата\" are the same. They are just different ways to write the same phrase, which translates to \"shawarma leaves or salad leaves\" in English. You can find them both in the same section of the grocery store, typically in the produce section where various types of lettuce and wraps for sandwiches are located.',\n",
       " 'No, \"листы для шаурмы или листья салата\" (shawarma wraps or lettuce leaves) and \"сухарики\" (croutons or bread sticks) are not the same and would typically be found in different sections of a grocery store. The former would be found in the produce or deli section, while the latter would be found in the snack or bakery section.',\n",
       " 'No, \"листы для шаурмы или листья салата\" (shawarma leaves or salad leaves) and \"фрукты для салата и на десерт\" (fruits for salad and dessert) are not the same. They would typically be found in different sections of a grocery store. The leaves for shawarma or salad are usually found in the produce or refrigerated section, while fruits for salad and dessert are typically found in the produce section, but they may not be in the same location within that section.',\n",
       " 'No, \"листы для шаурмы или листья салата\" (shawarma leaves or lettuce leaves) and \"авокадо для завтрака\" (avocado for breakfast) are not the same. They are found in different sections of the grocery store. Lettuce and shawarma leaves are typically found in the produce section, while avocados are usually found in their own specific area within the produce section.',\n",
       " 'No, \"листы для шаурмы или листья салата\" (shawarma leaves or salad leaves) and \"авокадо\" (avocado) are not the same. They are typically found in different sections of a grocery store. The leaves for shawarma or salad are usually located in the produce section, often with other leafy greens, while avocados are typically found in their own area within the produce section due to their unique storage requirements.',\n",
       " 'No, \"листы для шаурмы или листья салата\" (shawarma leaves or lettuce leaves) and \"огурец\" (cucumber) are not the same. While they can both be found in the produce section of a grocery store, they are not the same product and are typically located in different areas within that section.',\n",
       " 'No, \"листы для шаурмы или листья салата\" (shawarma leaves or lettuce leaves) and \"oignon\" (onion) are not the same. They would typically be found in different sections of a grocery store. Lettuce leaves would be in the produce section, while onions would also be in the produce section but in a different area.',\n",
       " 'No, \"листы для шаурмы или листья салата\" (shawarma leaves or salad leaves) and \"poivron de couleur rouge et vert\" (red and green bell peppers) are not the same. They are found in different sections of a grocery store; the former is in the produce or deli section while the latter is in the produce section.',\n",
       " 'No, \"листы для шаурмы или листья салата\" (shawarma leaves or lettuce leaves) and \"courgette\" (zucchini) are not the same. They are found in different sections of the grocery store. Lettuce leaves are typically found in the produce section, while zucchini is also found in the produce section but in a different location.',\n",
       " 'No, \"листы для шаурмы или листья салата\" (shawarma leaves or lettuce leaves) and \"tomate bien mûres\" (ripe tomatoes) are not the same. They are different products and would typically be found in different sections of a grocery store. Lettuce leaves are usually found in the produce section, while ripe tomatoes would also be in the produce section but in a different location.',\n",
       " 'No, \"сухарики\" (crackers) and \"рыба\" (fish) are not the same. They would be found in different sections of the grocery store. Crackers would typically be found in the bakery or snack aisle, while fish would be found in the seafood section or frozen food aisle.',\n",
       " 'No, \"сухарики\" (crackers or breadsticks) and \"листы для шаурмы или листья салата\" (shawarma wraps or lettuce leaves) are not the same. They are typically found in different sections of a grocery store. Crackers or breadsticks are usually in the snack or bakery aisle, while shawarma wraps and lettuce leaves are in the deli or produce section, respectively.',\n",
       " 'Yes, \"сухарики\" and \"сухарики\" are the same. They are the Russian translation for \"croutons\" or \"dried bread\", and they would be found in the same section of a grocery store.',\n",
       " 'No, \"сухарики\" (crackers or dried bread snacks) and \"фрукты для салата и на десерт\" (fruits for salad and dessert) would not be found in the same section of a grocery store. \"Сухарики\" would be found in the snack or bakery section, while \"фрукты для салата и на десерт\" would be found in the produce section.',\n",
       " 'No, \"сухарики\" (crackers or crispbread) and \"авокадо для завтрака\" (avocado for breakfast) are not the same. They are typically found in different sections of the grocery store. Crackers are usually in the snack or bread aisle, while avocados are in the produce section.',\n",
       " 'No, \"сухарики\" (crackers or dried bread snacks) and \"авокадо\" (avocado) are not the same. They would typically be found in different sections of a grocery store. Crackers are usually found in the snack or bakery aisle, while avocados are found in the produce section.',\n",
       " 'No, \"сухарики\" (crackers or dried bread sticks) and \"огурец\" (cucumber) are not the same. They would typically be found in different sections of a grocery store, with crackers in the bakery or snack aisle and cucumbers in the produce section.',\n",
       " 'No, \"сухарики\" and \"oignon\" are not the same. \"Сухарики\" are small, dry, crunchy Russian bread snacks, typically found in the snack aisle or Russian food section of a grocery store. \"Oignon\" is French for \"onion\", a vegetable that can be found in the produce section of a grocery store.',\n",
       " 'No, \"сухарики\" is a Russian term for a type of dry, crunchy bread snack, while \"poivron de couleur rouge et vert\" is French for red and green bell peppers. They would be found in different sections of a grocery store.',\n",
       " 'No, \"сухарики\" (Russian for \"croutons\" or \"dried bread snacks\") and \"courgette\" (French for \"zucchini\") are not the same. They are found in different sections of a grocery store - \"сухарики\" in the snack or bakery aisle, and courgettes in the produce section.',\n",
       " 'No, \"сухарики\" and \"tomate bien mûres\" are not the same. \"Сухарики\" are dry crunchy bread snacks, usually found in the snack or bread aisle. \"Tomate bien mûres\" are ripe tomatoes, which would be found in the produce section of the grocery store.',\n",
       " 'No, \"фрукты для салата и на десерт\" (fruits for salad and dessert) and \"рыба\" (fish) are not the same. They are typically found in different sections of a grocery store. Fruits are usually located in the produce section, while fish is found in the seafood or frozen food section.',\n",
       " 'No, \"фрукты для салата и на десерт\" (fruits for salad and dessert) and \"листы для шаурмы или листья салата\" (leaves for shawarma or salad leaves) are not the same. They are found in different sections of the grocery store. Fruits are typically found in the produce section, while salad leaves and shawarma wraps are found in the produce and deli sections respectively.',\n",
       " 'No, \"фрукты для салата и на десерт\" (fruits for salad and dessert) and \"сухарики\" (croutons or bread sticks) are not the same and would typically be found in different sections of a grocery store. Fresh fruits are usually found in the produce section, while croutons or bread sticks would be in the bakery or snack aisle.',\n",
       " 'Yes, they are the same. They are just identical phrases written in Russian, which translate to \"fruits for salad and dessert\" in English. Since they refer to the same type of product, they would be found in the same section of a grocery store.',\n",
       " 'No, \"фрукты для салата и на десерт\" (fruits for salad and dessert) and \"авокадо для завтрака\" (avocado for breakfast) are not necessarily the same. While avocado can be included in the fruits section, it might not be specifically labeled or placed as a fruit for salad or dessert. They could be found in different areas within the fruits section or store.',\n",
       " 'Yes, they can be found in the same section of the grocery store, typically in the produce section.',\n",
       " 'No, \"фрукты для салата и на десерт\" (fruits for salad and dessert) and \"огурец\" (cucumber) are not the same. They are typically found in different sections of a grocery store. Fruits are usually located in the produce section, while cucumbers, although also in the produce section, are often placed among the vegetables.',\n",
       " 'No, \"фрукты для салата и на десерт\" translates to \"fruits for salad and dessert\" which would typically be found in the produce section of a grocery store. \"Oignon\" is French for \"onion\" which is also found in the produce section, but they are not the same product and would not be found in the exact same location within the store.',\n",
       " 'No, \"фрукты для салата и на десерт\" translates to \"fruits for salad and dessert\" in English, which would typically be found in the produce section of a grocery store. On the other hand, \"poivron de couleur rouge et vert\" translates to \"red and green bell peppers\" in English, which would also be found in the produce section but they are not the same item.',\n",
       " 'No, \"фрукты для салата и на десерт\" translates to \"fruits for salad and dessert,\" which would typically refer to a variety of fresh fruits found in the produce section. \"Courgette,\" on the other hand, is a type of squash and is also found in the produce section, but it is not typically considered a fruit or grouped with fruits for salad or dessert.',\n",
       " 'No, \"фрукты для салата и на десерт\" translates to \"fruits for salad and dessert,\" which would typically be found in the produce section of a grocery store. On the other hand, \"tomates bien mûres\" translates to \"ripe tomatoes,\" which would also be found in the produce section but are not the same as the first item since they are specifically tomatoes.',\n",
       " 'No, \"авокадо для завтрака\" (breakfast avocado) and \"рыба\" (fish) are not the same and would not be found in the same section or location within a grocery store. Avocados are typically found in the produce section, while fish is found in the seafood or frozen food section.',\n",
       " 'No, \"авокадо для завтрака\" (breakfast avocado) and \"листы для шаурмы или листья салата\" (shawarma leaves or salad leaves) are not the same. They are typically found in different sections of a grocery store. Avocados are usually located in the produce section, while shawarma leaves or salad leaves can be found in the produce section as well, but they are not the same product.',\n",
       " 'No, \"авокадо для завтрака\" (breakfast avocado) and \"сухарики\" (crackers or breadsticks) are not the same. They would typically be found in different sections of a grocery store. Avocados would be in the produce section, while crackers or breadsticks would be in the snack or bakery section.',\n",
       " 'No, \"авокадо для завтрака\" (breakfast avocado) and \"фрукты для салата и на десерт\" (fruits for salad and dessert) are not the same. Although both items can be found in the produce section of a grocery store, they are not the same product and can have different uses.',\n",
       " 'Yes, \"авокадо для завтрака\" and \"авокадо для завтрака\" are the same item and would be found in the same section of a grocery store. Both terms refer to avocados intended for breakfast, but they are still just avocados and would be located in the produce section.',\n",
       " 'Yes',\n",
       " 'No, \"авокадо для завтрака\" (breakfast avocado) and \"огурец\" (cucumber) are not the same. They are different items and typically found in different sections of the grocery store. Avocados are usually located in the produce section, while cucumbers may be found in the produce section as well, but they are not the same product.',\n",
       " 'No, \"авокадо для завтрака\" (breakfast avocado) and \"oignon\" (onion) are not the same. They are different products and would typically be found in different sections of a grocery store. Avocados are usually located in the produce section, while onions can also be found in the produce section but in a different area.',\n",
       " 'No, \"авокадо для завтрака\" (breakfast avocado) and \"poivron de couleur rouge et vert\" (red and green bell peppers) are not the same. They are different products and would typically be found in separate sections of a grocery store: avocados in the produce section, and bell peppers in the produce or fresh vegetable section.',\n",
       " 'No, \"авокадо для завтрака\" (breakfast avocado) and \"courgette\" (zucchini) are not the same. They are different products and would typically be found in different sections of a grocery store – avocados with other fruits and zucchinis with other vegetables.',\n",
       " 'No, \"авокадо для завтрака\" (breakfast avocado) and \"tomate bien mûres\" (ripe tomatoes) are not the same. While they may be found in the same section of the grocery store (produce), they are not the same item and have different names.',\n",
       " 'No, \"авокадо\" and \"рыба\" are not the same. They would be found in different sections of a grocery store. Avocado is a fruit and would be found in the produce section, while \"рыба\" (fish) would be found in the seafood or meat section.',\n",
       " 'No, \"авокадо\" (avocado) and \"листы для шаурмы или листья салата\" (shawarma leaves or salad leaves) are not the same. They are typically found in different sections of a grocery store. Avocados are usually located in the produce section, while shawarma leaves or salad leaves can be found either in the produce section or the refrigerated section, depending on whether they are fresh or packaged.',\n",
       " 'No, \"авокадо\" (avocado) and \"сухарики\" (crackers or breadsticks) are not the same. They are typically found in different sections of a grocery store. Avocados are usually located in the produce section, while crackers or breadsticks are generally found in the snack or bakery aisle.',\n",
       " 'Yes, \"авокадо\" (avocado) and \"фрукты для салата и на десерт\" (fruits for salad and dessert) are typically found in the same section of the grocery store, specifically the produce section where fresh fruits are displayed. Hence, they can be considered the same in terms of their location within the store.',\n",
       " 'Yes, \"авокадо\" and \"авокадо для завтрака\" are the same in terms of being found in the same section or location within the grocery store. They both refer to avocados, which are typically located in the produce section.',\n",
       " 'Yes, \"авокадо\" and \"авокадо\" are the same, as they refer to the same product and would be found in the same section of the grocery store.',\n",
       " 'No, \"авокадо\" (avocado) and \"огурец\" (cucumber) are not the same. They are found in different sections of a grocery store. Avocados are typically found in the produce section, while cucumbers are often found there too, but they are not the same item.',\n",
       " 'No, \"авокадо\" and \"oignon\" are not the same. They are found in different sections of the grocery store. \"Авокадо\" is a type of fruit, while \"oignon\" is French for onion, which is a vegetable. They would typically be located in different produce areas.',\n",
       " 'No, \"авокадо\" (avocado) and \"poivron de couleur rouge et vert\" (red and green bell peppers) are not the same. While they can both be found in the produce section of a grocery store, they are not the same product and would not be found in the exact same location within the store.',\n",
       " 'No, \"авокадо\" and \"courgette\" are not the same. They are different items and would typically be found in different sections of a grocery store. Avocados are usually located in the produce section, often near other fruits like bananas and oranges, while courgettes (zucchinis) are typically found in the produce area as well, but closer to other vegetables such as cucumbers and squash.',\n",
       " 'No, \"авокадо\" and \"tomate bien mûres\" are not the same. They are different products and would typically be found in different sections of a grocery store. Avocados are usually located in the produce section, while \"tomate bien mûres\" (ripe tomatoes) would also be in the produce section but in a different location.',\n",
       " 'No, \"огурец\" (cucumber) and \"рыба\" (fish) are not the same. They are found in different sections of a grocery store. Cucumbers are typically found in the produce section, while fish is found in the seafood or frozen food section.',\n",
       " 'No, \"огурец\" (cucumber) and \"листы для шаурмы или листья салата\" (shawarma leaves or lettuce leaves) are not the same. They are found in different sections of a grocery store. Cucumbers are typically found in the produce section, while shawarma leaves or lettuce leaves can be found in the produce section as well, but they are not the same product.',\n",
       " 'No, \"огурец\" (cucumber) and \"сухарики\" (bread sticks or crackers) are not the same. They are typically found in different sections of a grocery store. Cucumbers are usually found in the produce section, while bread sticks or crackers are typically found in the snack or bakery section.',\n",
       " 'No, \"огурец\" (cucumber) is typically found in the vegetable section of a grocery store, while \"фрукты для салата и на десерт\" (fruits for salad and dessert) would be found in the fruit section. They are not the same and would not be found in the same location within the store.',\n",
       " 'No, \"огурец\" (cucumber) and \"авокадо для завтрака\" (breakfast avocado) are not the same. They are found in different sections of a grocery store. Cucumbers are typically found in the produce section, while avocados, although also in the produce section, are usually in a different location due to their unique storage requirements. The phrase \"breakfast avocado\" doesn\\'t change this.',\n",
       " 'No, \"огурец\" (cucumber) and \"авокадо\" (avocado) are not the same. They are typically found in different sections of a grocery store. Cucumbers are usually found in the produce section with other vegetables, while avocados have their own specific area within the produce section.',\n",
       " 'Yes, \"огурец\" and \"огурец\" are the same. They refer to the same product, which is a cucumber, and would be found in the same section of the grocery store.',\n",
       " 'No, \"огурец\" is a Russian word for cucumber, while \"oignon\" is a French word for onion. They are different vegetables and would typically be found in different sections of a grocery store.',\n",
       " 'No, \"огурец\" is a Russian term for cucumber, which is typically found in the produce section of a grocery store. \"Poivron de couleur rouge et vert\" is French for red and green bell peppers, which are also found in the produce section but are not the same product as cucumbers.',\n",
       " 'No, \"огурец\" and \"courgette\" are not the same. \"Огурец\" is the Russian word for cucumber, while \"courgette\" is a French word for zucchini. They are different vegetables and would typically be found in different sections of a grocery store.',\n",
       " 'No, \"огурец\" is a Russian word for cucumber, and \"tomate bien mûres\" is French for ripe tomatoes. These two items are typically found in different sections of a grocery store.',\n",
       " 'No, \"oignon\" is French for onion, and \"рыба\" is Russian for fish. These two items would be found in different sections of a grocery store.',\n",
       " 'No, \"oignon\" is French for onion, which is typically found in the produce section of a grocery store. \"Листы для шаурмы или листья салата\" translates to \"shawarma leaves or salad leaves,\" which would also be found in the produce section, but they are not the same product.',\n",
       " 'No, \"oignon\" is French for onion, which is found in the produce or vegetable section of a grocery store. \"Сухарики\" is Russian for breadsticks or croutons, which are typically found in the bakery or snack section of a grocery store. Therefore, they are not the same.',\n",
       " 'No, \"oignon\" is French for \"onion\", which is typically found in the produce section of a grocery store. \"Фрукты для салата и на десерт\" is Russian for \"fruits for salad and dessert\", which would also be found in the produce section, but they are not the same product.',\n",
       " 'No, \"oignon\" is French for onion and \"авокадо для завтрака\" is Russian for breakfast avocado. They would not be found in the same section of a grocery store.',\n",
       " 'No, \"oignon\" is French for onion and \"авокадо\" is avocado. They are two different products that would be found in separate sections of a grocery store. Onions are typically found in the produce section with other vegetables, while avocados have their own specific area within the produce section.',\n",
       " 'No, \"oignon\" is French for onion and \"огурец\" is Russian for cucumber. They would be found in different sections of the grocery store.',\n",
       " 'Yes, \"oignon\" and \"oignon\" are the same item, referring to onions in French. They would be found in the same section of the grocery store, typically in the produce aisle.',\n",
       " 'No, \"oignon\" is French for onion and \"poivron de couleur rouge et vert\" translates to red and green bell peppers. These items would be found in different sections of the grocery store, typically in the produce section but in separate areas.',\n",
       " 'No, \"oignon\" is French for onion, and \"courgette\" is French for zucchini. They are different vegetables and would typically be found in different areas of the produce section in a grocery store.',\n",
       " 'No, \"oignon\" (onion) and \"tomate bien mûres\" (ripe tomatoes) are not the same. They are typically found in different sections of a grocery store. Onions are usually in the produce section with other root vegetables, while tomatoes are in the produce section with other vine-ripened fruits and vegetables.',\n",
       " 'No, \"poivron de couleur rouge et vert\" is French for \"red and green bell peppers,\" while \"рыба\" is Russian for \"fish.\" These items are typically found in different sections of a grocery store.',\n",
       " 'No, \"poivron de couleur rouge et vert\" (red and green bell peppers) and \"листы для шаурмы или листья салата\" (shawarma leaves or lettuce leaves) are not the same. They belong to different sections in a grocery store. Bell peppers are typically found in the produce section, while shawarma leaves or lettuce leaves can be found in the produce section as well, but they are not the same product.',\n",
       " 'No, \"poivron de couleur rouge et vert\" is French for red and green bell peppers, which are found in the produce section of a grocery store. \"Сухарики\" is Russian for croutons or bread sticks, which are typically found in the bakery or snack aisle.',\n",
       " 'No, \"poivron de couleur rouge et vert\" translates to \"red and green bell peppers,\" which are vegetables, while \"фрукты для салата и на десерт\" translates to \"fruits for salad and dessert.\" These items would typically be found in different sections of a grocery store.',\n",
       " 'No, \"poivron de couleur rouge et vert\" (red and green bell peppers) and \"авокадо для завтрака\" (avocado for breakfast) are not the same. They are different products and are typically found in different sections of the grocery store. Bell peppers are usually found in the produce section, while avocados may be found there as well, but they are not the same item.',\n",
       " 'No, \"poivron de couleur rouge et vert\" (red and green bell peppers) and \"авокадо\" (avocado) are not the same. They are different items and are usually found in different sections of the grocery store. Bell peppers are typically in the produce section with other peppers and vegetables, while avocados are usually in their own designated area within the produce section.',\n",
       " 'No, \"poivron de couleur rouge et vert\" is French for \"red and green bell peppers,\" while \"огурец\" is Russian for \"cucumber.\" They are not the same and would be found in different sections of a grocery store.',\n",
       " 'No, \"poivron de couleur rouge et vert\" (red and green bell peppers) and \"oignon\" (onion) are not the same. They are different vegetables and would typically be found in different areas of the produce section in a grocery store.',\n",
       " 'Yes, \"poivron de couleur rouge et vert\" and \"poivron de couleur rouge et vert\" are the same item and can be found in the same section of the grocery store. They both refer to red and green bell peppers.',\n",
       " 'No, \"poivron de couleur rouge et vert\" (red and green bell peppers) and \"courgette\" (zucchini) are not the same. Although they are both vegetables, they are typically found in different sections of a grocery store. Bell peppers are usually found with other peppers and sometimes with tomatoes, while zucchini is typically found with other squashes or in a broader section for miscellaneous vegetables.',\n",
       " 'No, \"poivron de couleur rouge et vert\" (red and green bell peppers) and \"tomate bien mûres\" (ripe tomatoes) are not the same. While they may be found in the same general section of a grocery store (produce), they are different items and usually displayed in different areas within that section.',\n",
       " 'No, \"courgette\" and \"рыба\" are not the same. \"Courgette\" is a type of squash and would be found in the produce section of a grocery store, while \"рыба\" is the Russian word for \"fish\" and would be found in the seafood section.',\n",
       " 'No, \"courgette\" and \"листы для шаурмы или листья салата\" are not the same. Courgette is a type of squash, while \"листы для шаурмы или листья салата\" translates to \"shawarma leaves or salad leaves\", which would typically refer to some type of lettuce or flatbread used for wraps. These items are usually found in different sections of the grocery store.',\n",
       " 'No, \"courgette\" and \"сухарики\" are not the same. Courgette is a type of summer squash, typically found in the produce section of a grocery store. \"Сухарики\" are Russian crispbread or breadsticks and would be found in the snack or bakery section of the store.',\n",
       " 'No, \"courgette\" is a type of vegetable, specifically a summer squash, and would typically be found in the produce section of a grocery store. \"Фрукты для салата и на десерт\" translates to \"fruits for salad and dessert,\" which would also be located in the produce section but would refer to a variety of different fruits rather than courgettes. Therefore, they are not the same in terms of being the exact same product, although they may be found in the same general section of the store.',\n",
       " 'No, \"courgette\" and \"авокадо для завтрака\" are not the same. Courgette, also known as zucchini, is a type of summer squash, while \"авокадо для завтрака\" translates to \"avocado for breakfast.\" Although they can both be found in the produce section of a grocery store, they are not the same product and are typically located in different areas within the produce section.',\n",
       " 'No, \"courgette\" and \"авокадо\" are not the same. They are different types of produce and typically found in different areas of the produce section in a grocery store. Courgette is a type of squash, while avocado is a type of fruit.',\n",
       " 'No, \"courgette\" and \"огурец\" are not the same. A courgette is a type of summer squash, while \"огурец\" is the Russian word for cucumber. They are different vegetables and would typically be found in different sections of a grocery store.',\n",
       " 'No, \"courgette\" and \"oignon\" are not the same. \"Courgette\" is a type of summer squash, while \"oignon\" is French for onion. They would typically be found in different sections of the grocery store, with courgettes in the produce section and onions in their own section, also within the produce area.',\n",
       " 'No, \"courgette\" and \"poivron de couleur rouge et vert\" are not the same in terms of being found in the same section or location within the grocery store. \"Courgette\" is a type of squash, typically found in the produce section with other squashes and zucchinis. \"Poivron de couleur rouge et vert\" translates to \"red and green bell peppers,\" which are also found in the produce section, but would be located with other peppers, not squashes.',\n",
       " 'Yes, \"courgette\" and \"courgette\" are the same item and would be found in the same section of the grocery store, typically in the produce section.',\n",
       " 'No, \"courgette\" and \"tomate bien mûres\" are not the same. Courgette, also known as zucchini, is a type of squash, while \"tomate bien mûres\" translates to \"ripe tomatoes\". Although they might be found in the same general area of a grocery store (the produce section), they are not the same product and would typically be displayed in different parts of that section.',\n",
       " 'No, \"tomate bien mûres\" is French for \"ripe tomatoes\" and \"рыба\" is Russian for \"fish\". They are not the same and would be found in different sections of a grocery store.',\n",
       " 'No, \"tomate bien mûres\" which translates to \"ripe tomatoes\" from French, and \"листы для шаурмы или листья салата\" which translates to \"shawarma leaves or salad leaves\" from Russian, are not the same. While both items are often found in the produce section of a grocery store, they are not the same product and are typically stored in different areas within that section.',\n",
       " 'No, \"tomate bien mûres\" and \"сухарики\" are not the same. \"Tomate bien mûres\" is French for ripe tomatoes, which would be found in the produce section of a grocery store. \"Сухарики\" is Russian for crackers or breadsticks, which would be found in the bakery or snack section.',\n",
       " 'No, \"tomate bien mûres\" translates to \"ripe tomatoes\" from French and \"фрукты для салата и на десерт\" translates to \"fruits for salad and dessert\" from Russian. They are not the same since ripe tomatoes are classified as a vegetable, and fruits for salad and dessert are classified as fruits. They would typically be found in different sections of the grocery store.',\n",
       " 'No, \"tomate bien mûres\" and \"авокадо для завтрака\" are not the same. While both are fruits often found in the produce section, they are not the same product and would be located in different areas within that section. Tomatoes and avocados are distinct fruits with different appearances and uses.',\n",
       " 'No, \"tomate bien mûres\" and \"авокадо\" are not the same. They are different products and would typically be found in different sections of the grocery store. \"Tomate bien mûres\" refers to ripe tomatoes, while \"авокадо\" is the Russian word for avocado. These two items are not the same and would not be found in the same location within the store.',\n",
       " 'No, \"tomate bien mûres\" is French for ripe tomatoes, and \"огурец\" is Russian for cucumber. They are different items and would be found in different sections of the grocery store, typically both in the produce section but in different areas.',\n",
       " 'No, \"tomate bien mûres\" and \"oignon\" are not the same. They would typically be found in different sections of a grocery store. \"Tomate bien mûres\" refers to ripe tomatoes, which would be in the produce section, while \"oignon\" is French for onion, which would also be in the produce section but in a different location.',\n",
       " 'No, \"tomate bien mûres\" (ripe tomatoes) and \"poivron de couleur rouge et vert\" (red and green bell peppers) are not the same. They are different types of vegetables and usually found in separate sections within the produce department of a grocery store.',\n",
       " 'No, \"tomate bien mûres\" and \"courgette\" are not the same. They are different vegetables and would typically be found in different areas of the produce section in a grocery store. \"Tomate bien mûres\" refers to ripe tomatoes, while \"courgette\" is the French word for zucchini.',\n",
       " 'Yes, \"tomate bien mûres\" and \"tomate bien mûres\" are the same. They are just the same phrase written twice, and they would be found in the same section of the grocery store, typically in the produce section where tomatoes are kept.']"
      ]
     },
     "execution_count": 217,
     "metadata": {},
     "output_type": "execute_result"
    }
   ],
   "source": [
    "list(results)"
   ]
  },
  {
   "cell_type": "code",
   "execution_count": 194,
   "metadata": {},
   "outputs": [],
   "source": [
    "def get_mistral_compare_items(item_A, item_B):\n",
    "    \"\"\"\n",
    "    Asks Mistral to compare two items from the list and say if it's the same thing \n",
    "    \"\"\"\n",
    "    \n",
    "    \n",
    "    #step 1\n",
    "    chat_response = client.chat(\n",
    "    model=model,\n",
    "    messages=[ChatMessage(role=\"system\", content='You will be asked questions about items to determine if they are the same name for a product inside grocery store. Specifically, you will need to assess if item_A and item_B are the same in terms of being found in the same section or location within the store. For example, \"картошка\" and \"картофелина\" should be considered the same since they can be bought in the same place, and you should answer \"yes\". Please answer with \"yes\" or \"no\"'),\n",
    "              ChatMessage(role=\"user\", content=f'Are \"{item_A}\" and \"{item_B}\" the same?')]\n",
    "    )\n",
    "    res1 = chat_response.choices[0].message.content\n",
    "    \n",
    "    if \"yes\" in res1.lower(): #need to properly regex this\n",
    "        return True\n",
    "    elif \"no\" in res1.lower():\n",
    "        return False\n",
    "    else:\n",
    "        #raise Exception(\"Mistral was unable to answer 'yes' or 'no'\")\n",
    "            # step 2\n",
    "        chat_response2 = client.chat(\n",
    "        model=model,\n",
    "        messages=[ChatMessage(role=\"system\", content='You will be given an answer to a certain question and you are need to summarize the answer as \"yes\" or \"no\". Answer only with \"yes\" or \"no\".'),\n",
    "                ChatMessage(role=\"user\", content=f'Does this text means \"yes\" or \"no\"? text:{res1}')]\n",
    "        )\n",
    "        res2 = chat_response2.choices[0].message.content\n",
    "        \n",
    "        if \"yes\" in res2.lower(): #need to properly regex this\n",
    "            return True\n",
    "        elif \"no\" in res2.lower():\n",
    "            return False\n",
    "        else:\n",
    "            raise Exception(\"Mistral was unable to answer 'yes' or 'no'\")"
   ]
  },
  {
   "cell_type": "code",
   "execution_count": 195,
   "metadata": {},
   "outputs": [
    {
     "data": {
      "text/plain": [
       "True"
      ]
     },
     "execution_count": 195,
     "metadata": {},
     "output_type": "execute_result"
    }
   ],
   "source": [
    "get_mistral_compare_items('egg', 'oeuf')"
   ]
  }
 ],
 "metadata": {
  "kernelspec": {
   "display_name": "Python 3",
   "language": "python",
   "name": "python3"
  },
  "language_info": {
   "codemirror_mode": {
    "name": "ipython",
    "version": 3
   },
   "file_extension": ".py",
   "mimetype": "text/x-python",
   "name": "python",
   "nbconvert_exporter": "python",
   "pygments_lexer": "ipython3",
   "version": "3.10.0"
  }
 },
 "nbformat": 4,
 "nbformat_minor": 2
}
